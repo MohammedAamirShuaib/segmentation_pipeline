{
 "cells": [
  {
   "cell_type": "code",
   "execution_count": 42,
   "id": "c40c68aa",
   "metadata": {},
   "outputs": [],
   "source": [
    "# Import libraries\n",
    "import pandas as pd\n",
    "import numpy as np\n",
    "import wandb\n",
    "from datetime import datetime\n",
    "import matplotlib.pyplot as plt\n",
    "from sklearn.decomposition import PCA\n",
    "from sklearn.metrics import silhouette_score\n",
    "from sklearn.cluster import KMeans\n",
    "from sklearn.model_selection import train_test_split\n",
    "from sklearn.pipeline import Pipeline\n",
    "from sklearn import set_config\n",
    "import pickle\n",
    "from pandas_profiling import ProfileReport"
   ]
  },
  {
   "cell_type": "code",
   "execution_count": 9,
   "id": "738fe047",
   "metadata": {},
   "outputs": [],
   "source": [
    "# Default Parameters\n",
    "raw_data = \"D:/Work_Projects/sample_pipeline/exp_pipeline/data/raw_data.csv\"\n",
    "cleaned_data = \"D:/Work_Projects/sample_pipeline/exp_pipeline/data/cleaned_data.csv\"\n",
    "wandb_API_Key = \"80be2a65a225c34aa83cfbeeed1754168159d98d\"\n",
    "data_report = \"D:/Work_Projects/sample_pipeline/exp_pipeline/data_profile_report/data_profile_report.html\""
   ]
  },
  {
   "cell_type": "code",
   "execution_count": 3,
   "id": "813350f6",
   "metadata": {},
   "outputs": [
    {
     "data": {
      "text/html": [
       "<div>\n",
       "<style scoped>\n",
       "    .dataframe tbody tr th:only-of-type {\n",
       "        vertical-align: middle;\n",
       "    }\n",
       "\n",
       "    .dataframe tbody tr th {\n",
       "        vertical-align: top;\n",
       "    }\n",
       "\n",
       "    .dataframe thead th {\n",
       "        text-align: right;\n",
       "    }\n",
       "</style>\n",
       "<table border=\"1\" class=\"dataframe\">\n",
       "  <thead>\n",
       "    <tr style=\"text-align: right;\">\n",
       "      <th></th>\n",
       "      <th>instr</th>\n",
       "      <th>class</th>\n",
       "      <th>nb.repeat</th>\n",
       "      <th>attendance</th>\n",
       "      <th>difficulty</th>\n",
       "      <th>Q1</th>\n",
       "      <th>Q2</th>\n",
       "      <th>Q3</th>\n",
       "      <th>Q4</th>\n",
       "      <th>Q5</th>\n",
       "      <th>...</th>\n",
       "      <th>Q19</th>\n",
       "      <th>Q20</th>\n",
       "      <th>Q21</th>\n",
       "      <th>Q22</th>\n",
       "      <th>Q23</th>\n",
       "      <th>Q24</th>\n",
       "      <th>Q25</th>\n",
       "      <th>Q26</th>\n",
       "      <th>Q27</th>\n",
       "      <th>Q28</th>\n",
       "    </tr>\n",
       "  </thead>\n",
       "  <tbody>\n",
       "    <tr>\n",
       "      <th>0</th>\n",
       "      <td>1</td>\n",
       "      <td>2</td>\n",
       "      <td>1</td>\n",
       "      <td>0</td>\n",
       "      <td>4</td>\n",
       "      <td>3</td>\n",
       "      <td>3</td>\n",
       "      <td>3</td>\n",
       "      <td>3</td>\n",
       "      <td>3</td>\n",
       "      <td>...</td>\n",
       "      <td>3</td>\n",
       "      <td>3</td>\n",
       "      <td>3</td>\n",
       "      <td>3</td>\n",
       "      <td>3</td>\n",
       "      <td>3</td>\n",
       "      <td>3</td>\n",
       "      <td>3</td>\n",
       "      <td>3</td>\n",
       "      <td>3</td>\n",
       "    </tr>\n",
       "    <tr>\n",
       "      <th>1</th>\n",
       "      <td>1</td>\n",
       "      <td>2</td>\n",
       "      <td>1</td>\n",
       "      <td>1</td>\n",
       "      <td>3</td>\n",
       "      <td>3</td>\n",
       "      <td>3</td>\n",
       "      <td>3</td>\n",
       "      <td>3</td>\n",
       "      <td>3</td>\n",
       "      <td>...</td>\n",
       "      <td>3</td>\n",
       "      <td>3</td>\n",
       "      <td>3</td>\n",
       "      <td>3</td>\n",
       "      <td>3</td>\n",
       "      <td>3</td>\n",
       "      <td>3</td>\n",
       "      <td>3</td>\n",
       "      <td>3</td>\n",
       "      <td>3</td>\n",
       "    </tr>\n",
       "    <tr>\n",
       "      <th>2</th>\n",
       "      <td>1</td>\n",
       "      <td>2</td>\n",
       "      <td>1</td>\n",
       "      <td>2</td>\n",
       "      <td>4</td>\n",
       "      <td>5</td>\n",
       "      <td>5</td>\n",
       "      <td>5</td>\n",
       "      <td>5</td>\n",
       "      <td>5</td>\n",
       "      <td>...</td>\n",
       "      <td>5</td>\n",
       "      <td>5</td>\n",
       "      <td>5</td>\n",
       "      <td>5</td>\n",
       "      <td>5</td>\n",
       "      <td>5</td>\n",
       "      <td>5</td>\n",
       "      <td>5</td>\n",
       "      <td>5</td>\n",
       "      <td>5</td>\n",
       "    </tr>\n",
       "    <tr>\n",
       "      <th>3</th>\n",
       "      <td>1</td>\n",
       "      <td>2</td>\n",
       "      <td>1</td>\n",
       "      <td>1</td>\n",
       "      <td>3</td>\n",
       "      <td>3</td>\n",
       "      <td>3</td>\n",
       "      <td>3</td>\n",
       "      <td>3</td>\n",
       "      <td>3</td>\n",
       "      <td>...</td>\n",
       "      <td>3</td>\n",
       "      <td>3</td>\n",
       "      <td>3</td>\n",
       "      <td>3</td>\n",
       "      <td>3</td>\n",
       "      <td>3</td>\n",
       "      <td>3</td>\n",
       "      <td>3</td>\n",
       "      <td>3</td>\n",
       "      <td>3</td>\n",
       "    </tr>\n",
       "    <tr>\n",
       "      <th>4</th>\n",
       "      <td>1</td>\n",
       "      <td>2</td>\n",
       "      <td>1</td>\n",
       "      <td>0</td>\n",
       "      <td>1</td>\n",
       "      <td>1</td>\n",
       "      <td>1</td>\n",
       "      <td>1</td>\n",
       "      <td>1</td>\n",
       "      <td>1</td>\n",
       "      <td>...</td>\n",
       "      <td>1</td>\n",
       "      <td>1</td>\n",
       "      <td>1</td>\n",
       "      <td>1</td>\n",
       "      <td>1</td>\n",
       "      <td>1</td>\n",
       "      <td>1</td>\n",
       "      <td>1</td>\n",
       "      <td>1</td>\n",
       "      <td>1</td>\n",
       "    </tr>\n",
       "  </tbody>\n",
       "</table>\n",
       "<p>5 rows × 33 columns</p>\n",
       "</div>"
      ],
      "text/plain": [
       "   instr  class  nb.repeat  attendance  difficulty  Q1  Q2  Q3  Q4  Q5  ...  \\\n",
       "0      1      2          1           0           4   3   3   3   3   3  ...   \n",
       "1      1      2          1           1           3   3   3   3   3   3  ...   \n",
       "2      1      2          1           2           4   5   5   5   5   5  ...   \n",
       "3      1      2          1           1           3   3   3   3   3   3  ...   \n",
       "4      1      2          1           0           1   1   1   1   1   1  ...   \n",
       "\n",
       "   Q19  Q20  Q21  Q22  Q23  Q24  Q25  Q26  Q27  Q28  \n",
       "0    3    3    3    3    3    3    3    3    3    3  \n",
       "1    3    3    3    3    3    3    3    3    3    3  \n",
       "2    5    5    5    5    5    5    5    5    5    5  \n",
       "3    3    3    3    3    3    3    3    3    3    3  \n",
       "4    1    1    1    1    1    1    1    1    1    1  \n",
       "\n",
       "[5 rows x 33 columns]"
      ]
     },
     "execution_count": 3,
     "metadata": {},
     "output_type": "execute_result"
    }
   ],
   "source": [
    "raw_df = pd.read_csv(raw_data)\n",
    "raw_df.head()"
   ]
  },
  {
   "cell_type": "code",
   "execution_count": 4,
   "id": "d6a42b3c",
   "metadata": {},
   "outputs": [
    {
     "data": {
      "text/html": [
       "<div>\n",
       "<style scoped>\n",
       "    .dataframe tbody tr th:only-of-type {\n",
       "        vertical-align: middle;\n",
       "    }\n",
       "\n",
       "    .dataframe tbody tr th {\n",
       "        vertical-align: top;\n",
       "    }\n",
       "\n",
       "    .dataframe thead th {\n",
       "        text-align: right;\n",
       "    }\n",
       "</style>\n",
       "<table border=\"1\" class=\"dataframe\">\n",
       "  <thead>\n",
       "    <tr style=\"text-align: right;\">\n",
       "      <th></th>\n",
       "      <th>Q1</th>\n",
       "      <th>Q2</th>\n",
       "      <th>Q3</th>\n",
       "      <th>Q4</th>\n",
       "      <th>Q5</th>\n",
       "      <th>Q6</th>\n",
       "      <th>Q7</th>\n",
       "      <th>Q8</th>\n",
       "      <th>Q9</th>\n",
       "      <th>Q10</th>\n",
       "      <th>...</th>\n",
       "      <th>Q19</th>\n",
       "      <th>Q20</th>\n",
       "      <th>Q21</th>\n",
       "      <th>Q22</th>\n",
       "      <th>Q23</th>\n",
       "      <th>Q24</th>\n",
       "      <th>Q25</th>\n",
       "      <th>Q26</th>\n",
       "      <th>Q27</th>\n",
       "      <th>Q28</th>\n",
       "    </tr>\n",
       "  </thead>\n",
       "  <tbody>\n",
       "    <tr>\n",
       "      <th>count</th>\n",
       "      <td>5820.000000</td>\n",
       "      <td>5820.000000</td>\n",
       "      <td>5820.000000</td>\n",
       "      <td>5820.000000</td>\n",
       "      <td>5820.000000</td>\n",
       "      <td>5820.000000</td>\n",
       "      <td>5820.000000</td>\n",
       "      <td>5820.000000</td>\n",
       "      <td>5820.000000</td>\n",
       "      <td>5820.000000</td>\n",
       "      <td>...</td>\n",
       "      <td>5820.000000</td>\n",
       "      <td>5820.000000</td>\n",
       "      <td>5820.000000</td>\n",
       "      <td>5820.000000</td>\n",
       "      <td>5820.00000</td>\n",
       "      <td>5820.000000</td>\n",
       "      <td>5820.000000</td>\n",
       "      <td>5820.000000</td>\n",
       "      <td>5820.000000</td>\n",
       "      <td>5820.000000</td>\n",
       "    </tr>\n",
       "    <tr>\n",
       "      <th>mean</th>\n",
       "      <td>2.929897</td>\n",
       "      <td>3.073883</td>\n",
       "      <td>3.178694</td>\n",
       "      <td>3.082474</td>\n",
       "      <td>3.105842</td>\n",
       "      <td>3.107388</td>\n",
       "      <td>3.066323</td>\n",
       "      <td>3.041924</td>\n",
       "      <td>3.165979</td>\n",
       "      <td>3.090722</td>\n",
       "      <td>...</td>\n",
       "      <td>3.261684</td>\n",
       "      <td>3.285395</td>\n",
       "      <td>3.307388</td>\n",
       "      <td>3.317526</td>\n",
       "      <td>3.20189</td>\n",
       "      <td>3.166838</td>\n",
       "      <td>3.312543</td>\n",
       "      <td>3.222165</td>\n",
       "      <td>3.154811</td>\n",
       "      <td>3.308076</td>\n",
       "    </tr>\n",
       "    <tr>\n",
       "      <th>std</th>\n",
       "      <td>1.341077</td>\n",
       "      <td>1.285251</td>\n",
       "      <td>1.253567</td>\n",
       "      <td>1.284594</td>\n",
       "      <td>1.278989</td>\n",
       "      <td>1.280807</td>\n",
       "      <td>1.279097</td>\n",
       "      <td>1.283481</td>\n",
       "      <td>1.268930</td>\n",
       "      <td>1.275309</td>\n",
       "      <td>...</td>\n",
       "      <td>1.268442</td>\n",
       "      <td>1.276848</td>\n",
       "      <td>1.269974</td>\n",
       "      <td>1.268358</td>\n",
       "      <td>1.27259</td>\n",
       "      <td>1.275909</td>\n",
       "      <td>1.257286</td>\n",
       "      <td>1.270695</td>\n",
       "      <td>1.291872</td>\n",
       "      <td>1.278709</td>\n",
       "    </tr>\n",
       "    <tr>\n",
       "      <th>min</th>\n",
       "      <td>1.000000</td>\n",
       "      <td>1.000000</td>\n",
       "      <td>1.000000</td>\n",
       "      <td>1.000000</td>\n",
       "      <td>1.000000</td>\n",
       "      <td>1.000000</td>\n",
       "      <td>1.000000</td>\n",
       "      <td>1.000000</td>\n",
       "      <td>1.000000</td>\n",
       "      <td>1.000000</td>\n",
       "      <td>...</td>\n",
       "      <td>1.000000</td>\n",
       "      <td>1.000000</td>\n",
       "      <td>1.000000</td>\n",
       "      <td>1.000000</td>\n",
       "      <td>1.00000</td>\n",
       "      <td>1.000000</td>\n",
       "      <td>1.000000</td>\n",
       "      <td>1.000000</td>\n",
       "      <td>1.000000</td>\n",
       "      <td>1.000000</td>\n",
       "    </tr>\n",
       "    <tr>\n",
       "      <th>25%</th>\n",
       "      <td>2.000000</td>\n",
       "      <td>2.000000</td>\n",
       "      <td>2.000000</td>\n",
       "      <td>2.000000</td>\n",
       "      <td>2.000000</td>\n",
       "      <td>2.000000</td>\n",
       "      <td>2.000000</td>\n",
       "      <td>2.000000</td>\n",
       "      <td>2.000000</td>\n",
       "      <td>2.000000</td>\n",
       "      <td>...</td>\n",
       "      <td>3.000000</td>\n",
       "      <td>3.000000</td>\n",
       "      <td>3.000000</td>\n",
       "      <td>3.000000</td>\n",
       "      <td>2.00000</td>\n",
       "      <td>2.000000</td>\n",
       "      <td>3.000000</td>\n",
       "      <td>2.000000</td>\n",
       "      <td>2.000000</td>\n",
       "      <td>3.000000</td>\n",
       "    </tr>\n",
       "    <tr>\n",
       "      <th>50%</th>\n",
       "      <td>3.000000</td>\n",
       "      <td>3.000000</td>\n",
       "      <td>3.000000</td>\n",
       "      <td>3.000000</td>\n",
       "      <td>3.000000</td>\n",
       "      <td>3.000000</td>\n",
       "      <td>3.000000</td>\n",
       "      <td>3.000000</td>\n",
       "      <td>3.000000</td>\n",
       "      <td>3.000000</td>\n",
       "      <td>...</td>\n",
       "      <td>3.000000</td>\n",
       "      <td>3.000000</td>\n",
       "      <td>3.000000</td>\n",
       "      <td>3.000000</td>\n",
       "      <td>3.00000</td>\n",
       "      <td>3.000000</td>\n",
       "      <td>3.000000</td>\n",
       "      <td>3.000000</td>\n",
       "      <td>3.000000</td>\n",
       "      <td>3.000000</td>\n",
       "    </tr>\n",
       "    <tr>\n",
       "      <th>75%</th>\n",
       "      <td>4.000000</td>\n",
       "      <td>4.000000</td>\n",
       "      <td>4.000000</td>\n",
       "      <td>4.000000</td>\n",
       "      <td>4.000000</td>\n",
       "      <td>4.000000</td>\n",
       "      <td>4.000000</td>\n",
       "      <td>4.000000</td>\n",
       "      <td>4.000000</td>\n",
       "      <td>4.000000</td>\n",
       "      <td>...</td>\n",
       "      <td>4.000000</td>\n",
       "      <td>4.000000</td>\n",
       "      <td>4.000000</td>\n",
       "      <td>4.000000</td>\n",
       "      <td>4.00000</td>\n",
       "      <td>4.000000</td>\n",
       "      <td>4.000000</td>\n",
       "      <td>4.000000</td>\n",
       "      <td>4.000000</td>\n",
       "      <td>4.000000</td>\n",
       "    </tr>\n",
       "    <tr>\n",
       "      <th>max</th>\n",
       "      <td>5.000000</td>\n",
       "      <td>5.000000</td>\n",
       "      <td>5.000000</td>\n",
       "      <td>5.000000</td>\n",
       "      <td>5.000000</td>\n",
       "      <td>5.000000</td>\n",
       "      <td>5.000000</td>\n",
       "      <td>5.000000</td>\n",
       "      <td>5.000000</td>\n",
       "      <td>5.000000</td>\n",
       "      <td>...</td>\n",
       "      <td>5.000000</td>\n",
       "      <td>5.000000</td>\n",
       "      <td>5.000000</td>\n",
       "      <td>5.000000</td>\n",
       "      <td>5.00000</td>\n",
       "      <td>5.000000</td>\n",
       "      <td>5.000000</td>\n",
       "      <td>5.000000</td>\n",
       "      <td>5.000000</td>\n",
       "      <td>5.000000</td>\n",
       "    </tr>\n",
       "  </tbody>\n",
       "</table>\n",
       "<p>8 rows × 28 columns</p>\n",
       "</div>"
      ],
      "text/plain": [
       "                Q1           Q2           Q3           Q4           Q5  \\\n",
       "count  5820.000000  5820.000000  5820.000000  5820.000000  5820.000000   \n",
       "mean      2.929897     3.073883     3.178694     3.082474     3.105842   \n",
       "std       1.341077     1.285251     1.253567     1.284594     1.278989   \n",
       "min       1.000000     1.000000     1.000000     1.000000     1.000000   \n",
       "25%       2.000000     2.000000     2.000000     2.000000     2.000000   \n",
       "50%       3.000000     3.000000     3.000000     3.000000     3.000000   \n",
       "75%       4.000000     4.000000     4.000000     4.000000     4.000000   \n",
       "max       5.000000     5.000000     5.000000     5.000000     5.000000   \n",
       "\n",
       "                Q6           Q7           Q8           Q9          Q10  ...  \\\n",
       "count  5820.000000  5820.000000  5820.000000  5820.000000  5820.000000  ...   \n",
       "mean      3.107388     3.066323     3.041924     3.165979     3.090722  ...   \n",
       "std       1.280807     1.279097     1.283481     1.268930     1.275309  ...   \n",
       "min       1.000000     1.000000     1.000000     1.000000     1.000000  ...   \n",
       "25%       2.000000     2.000000     2.000000     2.000000     2.000000  ...   \n",
       "50%       3.000000     3.000000     3.000000     3.000000     3.000000  ...   \n",
       "75%       4.000000     4.000000     4.000000     4.000000     4.000000  ...   \n",
       "max       5.000000     5.000000     5.000000     5.000000     5.000000  ...   \n",
       "\n",
       "               Q19          Q20          Q21          Q22         Q23  \\\n",
       "count  5820.000000  5820.000000  5820.000000  5820.000000  5820.00000   \n",
       "mean      3.261684     3.285395     3.307388     3.317526     3.20189   \n",
       "std       1.268442     1.276848     1.269974     1.268358     1.27259   \n",
       "min       1.000000     1.000000     1.000000     1.000000     1.00000   \n",
       "25%       3.000000     3.000000     3.000000     3.000000     2.00000   \n",
       "50%       3.000000     3.000000     3.000000     3.000000     3.00000   \n",
       "75%       4.000000     4.000000     4.000000     4.000000     4.00000   \n",
       "max       5.000000     5.000000     5.000000     5.000000     5.00000   \n",
       "\n",
       "               Q24          Q25          Q26          Q27          Q28  \n",
       "count  5820.000000  5820.000000  5820.000000  5820.000000  5820.000000  \n",
       "mean      3.166838     3.312543     3.222165     3.154811     3.308076  \n",
       "std       1.275909     1.257286     1.270695     1.291872     1.278709  \n",
       "min       1.000000     1.000000     1.000000     1.000000     1.000000  \n",
       "25%       2.000000     3.000000     2.000000     2.000000     3.000000  \n",
       "50%       3.000000     3.000000     3.000000     3.000000     3.000000  \n",
       "75%       4.000000     4.000000     4.000000     4.000000     4.000000  \n",
       "max       5.000000     5.000000     5.000000     5.000000     5.000000  \n",
       "\n",
       "[8 rows x 28 columns]"
      ]
     },
     "execution_count": 4,
     "metadata": {},
     "output_type": "execute_result"
    }
   ],
   "source": [
    "raw_df.drop(columns=['instr','class','nb.repeat','attendance','difficulty'], inplace=True)\n",
    "raw_df.describe()"
   ]
  },
  {
   "cell_type": "code",
   "execution_count": 14,
   "id": "323d6999",
   "metadata": {},
   "outputs": [
    {
     "data": {
      "text/html": [
       "<div>\n",
       "<style scoped>\n",
       "    .dataframe tbody tr th:only-of-type {\n",
       "        vertical-align: middle;\n",
       "    }\n",
       "\n",
       "    .dataframe tbody tr th {\n",
       "        vertical-align: top;\n",
       "    }\n",
       "\n",
       "    .dataframe thead th {\n",
       "        text-align: right;\n",
       "    }\n",
       "</style>\n",
       "<table border=\"1\" class=\"dataframe\">\n",
       "  <thead>\n",
       "    <tr style=\"text-align: right;\">\n",
       "      <th></th>\n",
       "      <th>Q1</th>\n",
       "      <th>Q2</th>\n",
       "      <th>Q3</th>\n",
       "      <th>Q4</th>\n",
       "      <th>Q5</th>\n",
       "      <th>Q6</th>\n",
       "      <th>Q7</th>\n",
       "      <th>Q8</th>\n",
       "      <th>Q9</th>\n",
       "      <th>Q10</th>\n",
       "      <th>...</th>\n",
       "      <th>Q19</th>\n",
       "      <th>Q20</th>\n",
       "      <th>Q21</th>\n",
       "      <th>Q22</th>\n",
       "      <th>Q23</th>\n",
       "      <th>Q24</th>\n",
       "      <th>Q25</th>\n",
       "      <th>Q26</th>\n",
       "      <th>Q27</th>\n",
       "      <th>Q28</th>\n",
       "    </tr>\n",
       "  </thead>\n",
       "  <tbody>\n",
       "    <tr>\n",
       "      <th>0</th>\n",
       "      <td>3</td>\n",
       "      <td>3</td>\n",
       "      <td>3</td>\n",
       "      <td>3</td>\n",
       "      <td>3</td>\n",
       "      <td>3</td>\n",
       "      <td>3</td>\n",
       "      <td>3</td>\n",
       "      <td>3</td>\n",
       "      <td>3</td>\n",
       "      <td>...</td>\n",
       "      <td>3</td>\n",
       "      <td>3</td>\n",
       "      <td>3</td>\n",
       "      <td>3</td>\n",
       "      <td>3</td>\n",
       "      <td>3</td>\n",
       "      <td>3</td>\n",
       "      <td>3</td>\n",
       "      <td>3</td>\n",
       "      <td>3</td>\n",
       "    </tr>\n",
       "    <tr>\n",
       "      <th>1</th>\n",
       "      <td>3</td>\n",
       "      <td>3</td>\n",
       "      <td>3</td>\n",
       "      <td>3</td>\n",
       "      <td>3</td>\n",
       "      <td>3</td>\n",
       "      <td>3</td>\n",
       "      <td>3</td>\n",
       "      <td>3</td>\n",
       "      <td>3</td>\n",
       "      <td>...</td>\n",
       "      <td>3</td>\n",
       "      <td>3</td>\n",
       "      <td>3</td>\n",
       "      <td>3</td>\n",
       "      <td>3</td>\n",
       "      <td>3</td>\n",
       "      <td>3</td>\n",
       "      <td>3</td>\n",
       "      <td>3</td>\n",
       "      <td>3</td>\n",
       "    </tr>\n",
       "    <tr>\n",
       "      <th>2</th>\n",
       "      <td>5</td>\n",
       "      <td>5</td>\n",
       "      <td>5</td>\n",
       "      <td>5</td>\n",
       "      <td>5</td>\n",
       "      <td>5</td>\n",
       "      <td>5</td>\n",
       "      <td>5</td>\n",
       "      <td>5</td>\n",
       "      <td>5</td>\n",
       "      <td>...</td>\n",
       "      <td>5</td>\n",
       "      <td>5</td>\n",
       "      <td>5</td>\n",
       "      <td>5</td>\n",
       "      <td>5</td>\n",
       "      <td>5</td>\n",
       "      <td>5</td>\n",
       "      <td>5</td>\n",
       "      <td>5</td>\n",
       "      <td>5</td>\n",
       "    </tr>\n",
       "    <tr>\n",
       "      <th>3</th>\n",
       "      <td>3</td>\n",
       "      <td>3</td>\n",
       "      <td>3</td>\n",
       "      <td>3</td>\n",
       "      <td>3</td>\n",
       "      <td>3</td>\n",
       "      <td>3</td>\n",
       "      <td>3</td>\n",
       "      <td>3</td>\n",
       "      <td>3</td>\n",
       "      <td>...</td>\n",
       "      <td>3</td>\n",
       "      <td>3</td>\n",
       "      <td>3</td>\n",
       "      <td>3</td>\n",
       "      <td>3</td>\n",
       "      <td>3</td>\n",
       "      <td>3</td>\n",
       "      <td>3</td>\n",
       "      <td>3</td>\n",
       "      <td>3</td>\n",
       "    </tr>\n",
       "    <tr>\n",
       "      <th>4</th>\n",
       "      <td>1</td>\n",
       "      <td>1</td>\n",
       "      <td>1</td>\n",
       "      <td>1</td>\n",
       "      <td>1</td>\n",
       "      <td>1</td>\n",
       "      <td>1</td>\n",
       "      <td>1</td>\n",
       "      <td>1</td>\n",
       "      <td>1</td>\n",
       "      <td>...</td>\n",
       "      <td>1</td>\n",
       "      <td>1</td>\n",
       "      <td>1</td>\n",
       "      <td>1</td>\n",
       "      <td>1</td>\n",
       "      <td>1</td>\n",
       "      <td>1</td>\n",
       "      <td>1</td>\n",
       "      <td>1</td>\n",
       "      <td>1</td>\n",
       "    </tr>\n",
       "  </tbody>\n",
       "</table>\n",
       "<p>5 rows × 28 columns</p>\n",
       "</div>"
      ],
      "text/plain": [
       "   Q1  Q2  Q3  Q4  Q5  Q6  Q7  Q8  Q9  Q10  ...  Q19  Q20  Q21  Q22  Q23  Q24  \\\n",
       "0   3   3   3   3   3   3   3   3   3    3  ...    3    3    3    3    3    3   \n",
       "1   3   3   3   3   3   3   3   3   3    3  ...    3    3    3    3    3    3   \n",
       "2   5   5   5   5   5   5   5   5   5    5  ...    5    5    5    5    5    5   \n",
       "3   3   3   3   3   3   3   3   3   3    3  ...    3    3    3    3    3    3   \n",
       "4   1   1   1   1   1   1   1   1   1    1  ...    1    1    1    1    1    1   \n",
       "\n",
       "   Q25  Q26  Q27  Q28  \n",
       "0    3    3    3    3  \n",
       "1    3    3    3    3  \n",
       "2    5    5    5    5  \n",
       "3    3    3    3    3  \n",
       "4    1    1    1    1  \n",
       "\n",
       "[5 rows x 28 columns]"
      ]
     },
     "execution_count": 14,
     "metadata": {},
     "output_type": "execute_result"
    }
   ],
   "source": [
    "raw_df.to_csv(cleaned_data, index=False)\n",
    "cleaned_data = pd.read_csv(cleaned_data)\n",
    "cleaned_data.head()"
   ]
  },
  {
   "cell_type": "code",
   "execution_count": 24,
   "id": "8089c55e",
   "metadata": {},
   "outputs": [
    {
     "data": {
      "application/vnd.jupyter.widget-view+json": {
       "model_id": "a3762f98a9ef4306a456449a3a4ddbb2",
       "version_major": 2,
       "version_minor": 0
      },
      "text/plain": [
       "Summarize dataset:   0%|          | 0/5 [00:00<?, ?it/s]"
      ]
     },
     "metadata": {},
     "output_type": "display_data"
    },
    {
     "data": {
      "application/vnd.jupyter.widget-view+json": {
       "model_id": "37afb7105c0c457ba6b467f3be755df0",
       "version_major": 2,
       "version_minor": 0
      },
      "text/plain": [
       "Generate report structure:   0%|          | 0/1 [00:00<?, ?it/s]"
      ]
     },
     "metadata": {},
     "output_type": "display_data"
    },
    {
     "data": {
      "application/vnd.jupyter.widget-view+json": {
       "model_id": "05aa759412be40789f6cacb23683c8ac",
       "version_major": 2,
       "version_minor": 0
      },
      "text/plain": [
       "Render HTML:   0%|          | 0/1 [00:00<?, ?it/s]"
      ]
     },
     "metadata": {},
     "output_type": "display_data"
    },
    {
     "data": {
      "application/vnd.jupyter.widget-view+json": {
       "model_id": "9593a7b06b634eecb9bcf378e445696b",
       "version_major": 2,
       "version_minor": 0
      },
      "text/plain": [
       "Export report to file:   0%|          | 0/1 [00:00<?, ?it/s]"
      ]
     },
     "metadata": {},
     "output_type": "display_data"
    }
   ],
   "source": [
    "report = ProfileReport(cleaned_data)\n",
    "report.to_file(output_file=data_report)"
   ]
  },
  {
   "cell_type": "code",
   "execution_count": 73,
   "id": "3a5883e7",
   "metadata": {},
   "outputs": [
    {
     "data": {
      "image/png": "[encoded data removed]",
      "text/plain": [
       "<Figure size 640x480 with 1 Axes>"
      ]
     },
     "metadata": {},
     "output_type": "display_data"
    }
   ],
   "source": [
    "pca = PCA(n_components = 10, random_state=1)\n",
    "pca_model = pca.fit(cleaned_data)\n",
    "exp_var = pca.explained_variance_ratio_.cumsum()\n",
    "\n",
    "xpoints = range(1, len(exp_var)+1)\n",
    "\n",
    "plt.plot(xpoints, exp_var, 'o-')\n",
    "plt.xlabel('Number of Components')\n",
    "plt.xticks(xpoints)\n",
    "plt.ylabel('Explained Variance')\n",
    "plt.show()"
   ]
  },
  {
   "cell_type": "code",
   "execution_count": 26,
   "id": "7e1d3a4e",
   "metadata": {},
   "outputs": [
    {
     "data": {
      "text/html": [
       "Finishing last run (ID:12masggw) before initializing another..."
      ],
      "text/plain": [
       "<IPython.core.display.HTML object>"
      ]
     },
     "metadata": {},
     "output_type": "display_data"
    },
    {
     "data": {
      "text/html": [
       "Waiting for W&B process to finish... <strong style=\"color:green\">(success).</strong>"
      ],
      "text/plain": [
       "<IPython.core.display.HTML object>"
      ]
     },
     "metadata": {},
     "output_type": "display_data"
    },
    {
     "data": {
      "application/vnd.jupyter.widget-view+json": {
       "model_id": "d33f346c354448ceb006d60c39c75d2d",
       "version_major": 2,
       "version_minor": 0
      },
      "text/plain": [
       "VBox(children=(Label(value='0.000 MB of 0.000 MB uploaded (0.000 MB deduped)\\r'), FloatProgress(value=1.0, max…"
      ]
     },
     "metadata": {},
     "output_type": "display_data"
    },
    {
     "data": {
      "text/html": [
       "Synced <strong style=\"color:#cdcd00\">restful-pyramid-6</strong>: <a href=\"https://wandb.ai/aamirshuaib/exp2/runs/12masggw\" target=\"_blank\">https://wandb.ai/aamirshuaib/exp2/runs/12masggw</a><br/>Synced 4 W&B file(s), 0 media file(s), 0 artifact file(s) and 0 other file(s)"
      ],
      "text/plain": [
       "<IPython.core.display.HTML object>"
      ]
     },
     "metadata": {},
     "output_type": "display_data"
    },
    {
     "data": {
      "text/html": [
       "Find logs at: <code>.\\wandb\\run-20220526_085807-12masggw\\logs</code>"
      ],
      "text/plain": [
       "<IPython.core.display.HTML object>"
      ]
     },
     "metadata": {},
     "output_type": "display_data"
    },
    {
     "data": {
      "text/html": [
       "Successfully finished last run (ID:12masggw). Initializing new run:<br/>"
      ],
      "text/plain": [
       "<IPython.core.display.HTML object>"
      ]
     },
     "metadata": {},
     "output_type": "display_data"
    },
    {
     "data": {
      "text/html": [
       "Tracking run with wandb version 0.12.16"
      ],
      "text/plain": [
       "<IPython.core.display.HTML object>"
      ]
     },
     "metadata": {},
     "output_type": "display_data"
    },
    {
     "data": {
      "text/html": [
       "Run data is saved locally in <code>d:\\Work_Projects\\sample_pipeline\\exp_pipeline\\wandb\\run-20220526_085818-2mzyihz6</code>"
      ],
      "text/plain": [
       "<IPython.core.display.HTML object>"
      ]
     },
     "metadata": {},
     "output_type": "display_data"
    },
    {
     "data": {
      "text/html": [
       "Syncing run <strong><a href=\"https://wandb.ai/aamirshuaib/exp2/runs/2mzyihz6\" target=\"_blank\">stellar-grass-7</a></strong> to <a href=\"https://wandb.ai/aamirshuaib/exp2\" target=\"_blank\">Weights & Biases</a> (<a href=\"https://wandb.me/run\" target=\"_blank\">docs</a>)<br/>"
      ],
      "text/plain": [
       "<IPython.core.display.HTML object>"
      ]
     },
     "metadata": {},
     "output_type": "display_data"
    }
   ],
   "source": [
    "n_components = 2\n",
    "wandb.init(project=\"exp2\", entity=\"aamirshuaib\")\n",
    "wandb.log({\"pca_components\": n_components})"
   ]
  },
  {
   "cell_type": "code",
   "execution_count": 27,
   "id": "0ef61fec",
   "metadata": {},
   "outputs": [
    {
     "name": "stdout",
     "output_type": "stream",
     "text": [
      "Explained Variance Ratio : 0.8671381678891066\n"
     ]
    }
   ],
   "source": [
    "# reduce to 2 dimensions\n",
    "pca = PCA(n_components = n_components, random_state=1)\n",
    "pca_model = pca.fit(cleaned_data)\n",
    "X = pca_model.transform(cleaned_data)\n",
    "print('Explained Variance Ratio : ' + str(pca.explained_variance_ratio_.cumsum()[1]))\n",
    "wandb.log({\"Explained Variance Ratio\": pca.explained_variance_ratio_.cumsum()[1]})"
   ]
  },
  {
   "cell_type": "code",
   "execution_count": 28,
   "id": "7b0e3858",
   "metadata": {},
   "outputs": [
    {
     "data": {
      "text/html": [
       "<div>\n",
       "<style scoped>\n",
       "    .dataframe tbody tr th:only-of-type {\n",
       "        vertical-align: middle;\n",
       "    }\n",
       "\n",
       "    .dataframe tbody tr th {\n",
       "        vertical-align: top;\n",
       "    }\n",
       "\n",
       "    .dataframe thead th {\n",
       "        text-align: right;\n",
       "    }\n",
       "</style>\n",
       "<table border=\"1\" class=\"dataframe\">\n",
       "  <thead>\n",
       "    <tr style=\"text-align: right;\">\n",
       "      <th></th>\n",
       "      <th>PCA_1</th>\n",
       "      <th>PCA_2</th>\n",
       "    </tr>\n",
       "  </thead>\n",
       "  <tbody>\n",
       "    <tr>\n",
       "      <th>0</th>\n",
       "      <td>0.989015</td>\n",
       "      <td>0.522798</td>\n",
       "    </tr>\n",
       "    <tr>\n",
       "      <th>1</th>\n",
       "      <td>0.989015</td>\n",
       "      <td>0.522798</td>\n",
       "    </tr>\n",
       "    <tr>\n",
       "      <th>2</th>\n",
       "      <td>-9.591289</td>\n",
       "      <td>0.640802</td>\n",
       "    </tr>\n",
       "    <tr>\n",
       "      <th>3</th>\n",
       "      <td>0.989015</td>\n",
       "      <td>0.522798</td>\n",
       "    </tr>\n",
       "    <tr>\n",
       "      <th>4</th>\n",
       "      <td>11.569319</td>\n",
       "      <td>0.404794</td>\n",
       "    </tr>\n",
       "  </tbody>\n",
       "</table>\n",
       "</div>"
      ],
      "text/plain": [
       "       PCA_1     PCA_2\n",
       "0   0.989015  0.522798\n",
       "1   0.989015  0.522798\n",
       "2  -9.591289  0.640802\n",
       "3   0.989015  0.522798\n",
       "4  11.569319  0.404794"
      ]
     },
     "execution_count": 28,
     "metadata": {},
     "output_type": "execute_result"
    }
   ],
   "source": [
    "columns = ['PCA_' + str(i) for i in range(1, n_components + 1)]\n",
    "pca_df = pd.DataFrame(X, columns=columns)\n",
    "pca_df.head()"
   ]
  },
  {
   "cell_type": "code",
   "execution_count": 75,
   "id": "6a4c8073",
   "metadata": {},
   "outputs": [
    {
     "data": {
      "image/png": "[encoded data removed]",
      "text/plain": [
       "<Figure size 700x400 with 1 Axes>"
      ]
     },
     "metadata": {},
     "output_type": "display_data"
    }
   ],
   "source": [
    "# calculate distortion for a range of number of cluster\n",
    "distortions = []\n",
    "for i in range(1, 11):\n",
    "    km = KMeans(\n",
    "        n_clusters=i, init='random',\n",
    "        n_init=10, max_iter=300,\n",
    "        tol=1e-04, random_state=0\n",
    "    )\n",
    "    km.fit(X)\n",
    "    distortions.append(km.inertia_)\n",
    "\n",
    "# plot\n",
    "plt.figure(figsize=(7, 4))\n",
    "plt.plot(range(1, 11), distortions, marker='o')\n",
    "plt.xlabel('Number of clusters')\n",
    "plt.ylabel('Distortion')\n",
    "#wandb.log({\"Elbow\": plt})\n",
    "plt.show()"
   ]
  },
  {
   "cell_type": "code",
   "execution_count": 30,
   "id": "9712000b",
   "metadata": {},
   "outputs": [],
   "source": [
    "n_clusters = 6\n",
    "wandb.log({\"n_clusters\": n_clusters})"
   ]
  },
  {
   "cell_type": "code",
   "execution_count": 31,
   "id": "9fb48e72",
   "metadata": {},
   "outputs": [
    {
     "name": "stderr",
     "output_type": "stream",
     "text": [
      "\u001b[34m\u001b[1mwandb\u001b[0m: \n",
      "\u001b[34m\u001b[1mwandb\u001b[0m: Plotting Kmeans.\n",
      "\u001b[34m\u001b[1mwandb\u001b[0m: Logged elbow curve.\n",
      "\u001b[34m\u001b[1mwandb\u001b[0m: \u001b[33mWARNING\u001b[0m using only the first 1000 datapoints to create chart silhouette\n",
      "\u001b[34m\u001b[1mwandb\u001b[0m: \u001b[33mWARNING\u001b[0m using only the first 1000 datapoints to create chart silhouette\n",
      "\u001b[34m\u001b[1mwandb\u001b[0m: \u001b[33mWARNING\u001b[0m using only the first 1000 datapoints to create chart silhouette\n",
      "\u001b[34m\u001b[1mwandb\u001b[0m: \u001b[33mWARNING\u001b[0m using only the first 1000 datapoints to create chart silhouette\n",
      "\u001b[34m\u001b[1mwandb\u001b[0m: \u001b[33mWARNING\u001b[0m using only the first 1000 datapoints to create chart silhouette\n",
      "\u001b[34m\u001b[1mwandb\u001b[0m: Logged silhouette plot.\n"
     ]
    }
   ],
   "source": [
    "km = KMeans(\n",
    "    n_clusters=n_clusters, init='k-means++',\n",
    "    n_init=10, max_iter=300, \n",
    "    tol=1e-04, random_state=0\n",
    ")\n",
    "y_km = km.fit_predict(X)\n",
    "\n",
    "\n",
    "wandb.sklearn.plot_clusterer(km, X, y_km, labels=None, model_name='Kmeans')"
   ]
  },
  {
   "cell_type": "code",
   "execution_count": 35,
   "id": "df936606",
   "metadata": {},
   "outputs": [
    {
     "name": "stderr",
     "output_type": "stream",
     "text": [
      "*c* argument looks like a single numeric RGB or RGBA sequence, which should be avoided as value-mapping will have precedence in case its length matches with *x* & *y*.  Please use the *color* keyword-argument or provide a 2D array with a single row if you intend to specify the same RGB or RGBA value for all points.\n",
      "*c* argument looks like a single numeric RGB or RGBA sequence, which should be avoided as value-mapping will have precedence in case its length matches with *x* & *y*.  Please use the *color* keyword-argument or provide a 2D array with a single row if you intend to specify the same RGB or RGBA value for all points.\n",
      "*c* argument looks like a single numeric RGB or RGBA sequence, which should be avoided as value-mapping will have precedence in case its length matches with *x* & *y*.  Please use the *color* keyword-argument or provide a 2D array with a single row if you intend to specify the same RGB or RGBA value for all points.\n",
      "*c* argument looks like a single numeric RGB or RGBA sequence, which should be avoided as value-mapping will have precedence in case its length matches with *x* & *y*.  Please use the *color* keyword-argument or provide a 2D array with a single row if you intend to specify the same RGB or RGBA value for all points.\n",
      "*c* argument looks like a single numeric RGB or RGBA sequence, which should be avoided as value-mapping will have precedence in case its length matches with *x* & *y*.  Please use the *color* keyword-argument or provide a 2D array with a single row if you intend to specify the same RGB or RGBA value for all points.\n",
      "*c* argument looks like a single numeric RGB or RGBA sequence, which should be avoided as value-mapping will have precedence in case its length matches with *x* & *y*.  Please use the *color* keyword-argument or provide a 2D array with a single row if you intend to specify the same RGB or RGBA value for all points.\n"
     ]
    },
    {
     "data": {
      "image/png": "[encoded data removed]",
      "text/plain": [
       "<Figure size 1500x700 with 1 Axes>"
      ]
     },
     "metadata": {},
     "output_type": "display_data"
    }
   ],
   "source": [
    "plt.figure(figsize=(15,7))\n",
    "\n",
    "for i in range(0,n_clusters):\n",
    "    plt.scatter(X[y_km == i, 0], X[y_km == i, 1], s=50, c=np.random.rand(3),label='cluster %d' % (i + 1))\n",
    "#plot the centroids\n",
    "plt.scatter(\n",
    "    km.cluster_centers_[:, 0], km.cluster_centers_[:, 1],\n",
    "    s=150, marker='v',\n",
    "    c='black', edgecolor='black',\n",
    "    label='centroids'\n",
    ")\n",
    "plt.legend(scatterpoints=1)\n",
    "plt.grid()\n",
    "plt.show()"
   ]
  },
  {
   "cell_type": "code",
   "execution_count": 43,
   "id": "d3d89a63",
   "metadata": {},
   "outputs": [
    {
     "name": "stdout",
     "output_type": "stream",
     "text": [
      "Silhouette score: 0.651\n"
     ]
    }
   ],
   "source": [
    "silhouette_score(X,y_km)\n",
    "wandb.log({\"silhouette_score\": silhouette_score(X,y_km)})\n",
    "print('Silhouette score: %0.3f' % silhouette_score(X,y_km))"
   ]
  },
  {
   "cell_type": "code",
   "execution_count": 32,
   "id": "0b67471f",
   "metadata": {},
   "outputs": [
    {
     "data": {
      "text/html": [
       "<div>\n",
       "<style scoped>\n",
       "    .dataframe tbody tr th:only-of-type {\n",
       "        vertical-align: middle;\n",
       "    }\n",
       "\n",
       "    .dataframe tbody tr th {\n",
       "        vertical-align: top;\n",
       "    }\n",
       "\n",
       "    .dataframe thead th {\n",
       "        text-align: right;\n",
       "    }\n",
       "</style>\n",
       "<table border=\"1\" class=\"dataframe\">\n",
       "  <thead>\n",
       "    <tr style=\"text-align: right;\">\n",
       "      <th></th>\n",
       "      <th>PCA_1</th>\n",
       "      <th>PCA_2</th>\n",
       "      <th>cluster</th>\n",
       "    </tr>\n",
       "  </thead>\n",
       "  <tbody>\n",
       "    <tr>\n",
       "      <th>0</th>\n",
       "      <td>0.989015</td>\n",
       "      <td>0.522798</td>\n",
       "      <td>2</td>\n",
       "    </tr>\n",
       "    <tr>\n",
       "      <th>1</th>\n",
       "      <td>0.989015</td>\n",
       "      <td>0.522798</td>\n",
       "      <td>2</td>\n",
       "    </tr>\n",
       "    <tr>\n",
       "      <th>2</th>\n",
       "      <td>-9.591289</td>\n",
       "      <td>0.640802</td>\n",
       "      <td>0</td>\n",
       "    </tr>\n",
       "    <tr>\n",
       "      <th>3</th>\n",
       "      <td>0.989015</td>\n",
       "      <td>0.522798</td>\n",
       "      <td>2</td>\n",
       "    </tr>\n",
       "    <tr>\n",
       "      <th>4</th>\n",
       "      <td>11.569319</td>\n",
       "      <td>0.404794</td>\n",
       "      <td>1</td>\n",
       "    </tr>\n",
       "  </tbody>\n",
       "</table>\n",
       "</div>"
      ],
      "text/plain": [
       "       PCA_1     PCA_2  cluster\n",
       "0   0.989015  0.522798        2\n",
       "1   0.989015  0.522798        2\n",
       "2  -9.591289  0.640802        0\n",
       "3   0.989015  0.522798        2\n",
       "4  11.569319  0.404794        1"
      ]
     },
     "execution_count": 32,
     "metadata": {},
     "output_type": "execute_result"
    }
   ],
   "source": [
    "pca_df[\"cluster\"] = y_km\n",
    "pca_df.head()"
   ]
  },
  {
   "cell_type": "code",
   "execution_count": 44,
   "id": "7213870a",
   "metadata": {},
   "outputs": [],
   "source": [
    "table = wandb.Table(columns=pca_df.columns, data=pca_df)\n",
    "wandb.log({\"table\": table})"
   ]
  },
  {
   "cell_type": "markdown",
   "id": "c4fa7430",
   "metadata": {},
   "source": [
    "# Building Pipepline"
   ]
  },
  {
   "cell_type": "code",
   "execution_count": 45,
   "id": "503d5d84",
   "metadata": {},
   "outputs": [],
   "source": [
    "pca_pipe = Pipeline([(\"pca\", PCA(n_components = n_components, random_state=1)),])\n",
    "Kmeans_pipe = Pipeline([(\"Kmeans\", KMeans(n_clusters=n_clusters, init='k-means++',))])\n",
    "pipeline = Pipeline([(\"PCA\",pca_pipe),(\"Kmeans\",Kmeans_pipe)])"
   ]
  },
  {
   "cell_type": "code",
   "execution_count": 46,
   "id": "70c2cc96",
   "metadata": {},
   "outputs": [],
   "source": [
    "model = pipeline.fit(cleaned_data)"
   ]
  },
  {
   "cell_type": "code",
   "execution_count": 48,
   "id": "a9f74412",
   "metadata": {},
   "outputs": [
    {
     "data": {
      "text/plain": [
       "0.6516372163805993"
      ]
     },
     "execution_count": 48,
     "metadata": {},
     "output_type": "execute_result"
    }
   ],
   "source": [
    "preprocessed_data = pipeline[\"PCA\"].transform(cleaned_data)\n",
    "\n",
    "predicted_labels = pipeline[\"Kmeans\"][\"Kmeans\"].labels_\n",
    "\n",
    "silhouette_score(preprocessed_data, predicted_labels)"
   ]
  },
  {
   "cell_type": "code",
   "execution_count": 49,
   "id": "1b509854",
   "metadata": {},
   "outputs": [
    {
     "data": {
      "text/html": [
       "<style>div.sk-top-container {color: black;background-color: white;}div.sk-toggleable {background-color: white;}label.sk-toggleable__label {cursor: pointer;display: block;width: 100%;margin-bottom: 0;padding: 0.2em 0.3em;box-sizing: border-box;text-align: center;}div.sk-toggleable__content {max-height: 0;max-width: 0;overflow: hidden;text-align: left;background-color: #f0f8ff;}div.sk-toggleable__content pre {margin: 0.2em;color: black;border-radius: 0.25em;background-color: #f0f8ff;}input.sk-toggleable__control:checked~div.sk-toggleable__content {max-height: 200px;max-width: 100%;overflow: auto;}div.sk-estimator input.sk-toggleable__control:checked~label.sk-toggleable__label {background-color: #d4ebff;}div.sk-label input.sk-toggleable__control:checked~label.sk-toggleable__label {background-color: #d4ebff;}input.sk-hidden--visually {border: 0;clip: rect(1px 1px 1px 1px);clip: rect(1px, 1px, 1px, 1px);height: 1px;margin: -1px;overflow: hidden;padding: 0;position: absolute;width: 1px;}div.sk-estimator {font-family: monospace;background-color: #f0f8ff;margin: 0.25em 0.25em;border: 1px dotted black;border-radius: 0.25em;box-sizing: border-box;}div.sk-estimator:hover {background-color: #d4ebff;}div.sk-parallel-item::after {content: \"\";width: 100%;border-bottom: 1px solid gray;flex-grow: 1;}div.sk-label:hover label.sk-toggleable__label {background-color: #d4ebff;}div.sk-serial::before {content: \"\";position: absolute;border-left: 1px solid gray;box-sizing: border-box;top: 2em;bottom: 0;left: 50%;}div.sk-serial {display: flex;flex-direction: column;align-items: center;background-color: white;}div.sk-item {z-index: 1;}div.sk-parallel {display: flex;align-items: stretch;justify-content: center;background-color: white;}div.sk-parallel-item {display: flex;flex-direction: column;position: relative;background-color: white;}div.sk-parallel-item:first-child::after {align-self: flex-end;width: 50%;}div.sk-parallel-item:last-child::after {align-self: flex-start;width: 50%;}div.sk-parallel-item:only-child::after {width: 0;}div.sk-dashed-wrapped {border: 1px dashed gray;margin: 0.2em;box-sizing: border-box;padding-bottom: 0.1em;background-color: white;position: relative;}div.sk-label label {font-family: monospace;font-weight: bold;background-color: white;display: inline-block;line-height: 1.2em;}div.sk-label-container {position: relative;z-index: 2;text-align: center;}div.sk-container {display: inline-block;position: relative;}</style><div class=\"sk-top-container\"><div class=\"sk-container\"><div class=\"sk-item sk-dashed-wrapped\"><div class=\"sk-label-container\"><div class=\"sk-label sk-toggleable\"><input class=\"sk-toggleable__control sk-hidden--visually\" id=\"47a45280-7568-47d3-baf7-2972d99197ce\" type=\"checkbox\" ><label class=\"sk-toggleable__label\" for=\"47a45280-7568-47d3-baf7-2972d99197ce\">Pipeline</label><div class=\"sk-toggleable__content\"><pre>Pipeline(steps=[('PCA',\n",
       "                 Pipeline(steps=[('pca',\n",
       "                                  PCA(n_components=2, random_state=1))])),\n",
       "                ('Kmeans', Pipeline(steps=[('Kmeans', KMeans(n_clusters=6))]))])</pre></div></div></div><div class=\"sk-serial\"><div class=\"sk-item\"><div class=\"sk-label-container\"><div class=\"sk-label sk-toggleable\"><input class=\"sk-toggleable__control sk-hidden--visually\" id=\"6384eb1d-7d78-40de-81fc-a4228f228400\" type=\"checkbox\" ><label class=\"sk-toggleable__label\" for=\"6384eb1d-7d78-40de-81fc-a4228f228400\">PCA: Pipeline</label><div class=\"sk-toggleable__content\"><pre>Pipeline(steps=[('pca', PCA(n_components=2, random_state=1))])</pre></div></div></div><div class=\"sk-serial\"><div class=\"sk-item\"><div class=\"sk-estimator sk-toggleable\"><input class=\"sk-toggleable__control sk-hidden--visually\" id=\"40e11568-3db6-4397-8c4d-680101105ba5\" type=\"checkbox\" ><label class=\"sk-toggleable__label\" for=\"40e11568-3db6-4397-8c4d-680101105ba5\">PCA</label><div class=\"sk-toggleable__content\"><pre>PCA(n_components=2, random_state=1)</pre></div></div></div></div></div><div class=\"sk-item\"><div class=\"sk-label-container\"><div class=\"sk-label sk-toggleable\"><input class=\"sk-toggleable__control sk-hidden--visually\" id=\"5dd122c0-c2bc-44e6-9cd5-9794307967a0\" type=\"checkbox\" ><label class=\"sk-toggleable__label\" for=\"5dd122c0-c2bc-44e6-9cd5-9794307967a0\">Kmeans: Pipeline</label><div class=\"sk-toggleable__content\"><pre>Pipeline(steps=[('Kmeans', KMeans(n_clusters=6))])</pre></div></div></div><div class=\"sk-serial\"><div class=\"sk-item\"><div class=\"sk-estimator sk-toggleable\"><input class=\"sk-toggleable__control sk-hidden--visually\" id=\"64614895-1b5e-45dc-88d1-0ba66dc65eb3\" type=\"checkbox\" ><label class=\"sk-toggleable__label\" for=\"64614895-1b5e-45dc-88d1-0ba66dc65eb3\">KMeans</label><div class=\"sk-toggleable__content\"><pre>KMeans(n_clusters=6)</pre></div></div></div></div></div></div></div></div></div>"
      ],
      "text/plain": [
       "Pipeline(steps=[('PCA',\n",
       "                 Pipeline(steps=[('pca',\n",
       "                                  PCA(n_components=2, random_state=1))])),\n",
       "                ('Kmeans', Pipeline(steps=[('Kmeans', KMeans(n_clusters=6))]))])"
      ]
     },
     "execution_count": 49,
     "metadata": {},
     "output_type": "execute_result"
    }
   ],
   "source": [
    "set_config(display='diagram')\n",
    "model"
   ]
  },
  {
   "cell_type": "code",
   "execution_count": 50,
   "id": "704669ac",
   "metadata": {},
   "outputs": [],
   "source": [
    "model_registry = \"D:/Work_Projects/sample_pipeline/exp_pipeline/model_registry/cluster_model_\"+str(n_components)+\"_\"+str(n_clusters)+\"_\"+datetime.now().strftime(\"%m_%d_%Y_%H_%M_%S\")+\".pkl\"\n",
    "pickle.dump(model, open(model_registry, 'wb'))"
   ]
  },
  {
   "cell_type": "code",
   "execution_count": 51,
   "id": "b0493d75",
   "metadata": {},
   "outputs": [
    {
     "data": {
      "text/plain": [
       "<wandb.sdk.wandb_artifacts.Artifact at 0x2014155bb88>"
      ]
     },
     "execution_count": 51,
     "metadata": {},
     "output_type": "execute_result"
    }
   ],
   "source": [
    "artifact = wandb.Artifact('pipeline', type='model')\n",
    "artifact.add_file(model_registry)\n",
    "wandb.log_artifact(artifact)"
   ]
  },
  {
   "cell_type": "code",
   "execution_count": 52,
   "id": "fa379fda",
   "metadata": {},
   "outputs": [
    {
     "name": "stderr",
     "output_type": "stream",
     "text": [
      "\u001b[34m\u001b[1mwandb\u001b[0m: \u001b[33mWARNING\u001b[0m Calling wandb.run.save without any arguments is deprecated.Changes to attributes are automatically persisted.\n"
     ]
    },
    {
     "data": {
      "text/html": [
       "Waiting for W&B process to finish... <strong style=\"color:green\">(success).</strong>"
      ],
      "text/plain": [
       "<IPython.core.display.HTML object>"
      ]
     },
     "metadata": {},
     "output_type": "display_data"
    },
    {
     "data": {
      "application/vnd.jupyter.widget-view+json": {
       "model_id": "3d1675b7b2c64758b8b0292f1302c4ba",
       "version_major": 2,
       "version_minor": 0
      },
      "text/plain": [
       "VBox(children=(Label(value='1.040 MB of 1.040 MB uploaded (0.000 MB deduped)\\r'), FloatProgress(value=1.0, max…"
      ]
     },
     "metadata": {},
     "output_type": "display_data"
    },
    {
     "data": {
      "text/html": [
       "<style>\n",
       "    table.wandb td:nth-child(1) { padding: 0 10px; text-align: left ; width: auto;} td:nth-child(2) {text-align: left ; width: 100%}\n",
       "    .wandb-row { display: flex; flex-direction: row; flex-wrap: wrap; justify-content: flex-start; width: 100% }\n",
       "    .wandb-col { display: flex; flex-direction: column; flex-basis: 100%; flex: 1; padding: 10px; }\n",
       "    </style>\n",
       "<div class=\"wandb-row\"><div class=\"wandb-col\"><h3>Run history:</h3><br/><table class=\"wandb\"><tr><td>Explained Variance Ratio</td><td>▁</td></tr><tr><td>n_clusters</td><td>▁</td></tr><tr><td>pca_components</td><td>▁</td></tr><tr><td>silhouette_score</td><td>▁▁</td></tr></table><br/></div><div class=\"wandb-col\"><h3>Run summary:</h3><br/><table class=\"wandb\"><tr><td>Explained Variance Ratio</td><td>0.86714</td></tr><tr><td>n_clusters</td><td>6</td></tr><tr><td>pca_components</td><td>2</td></tr><tr><td>silhouette_score</td><td>0.65122</td></tr></table><br/></div></div>"
      ],
      "text/plain": [
       "<IPython.core.display.HTML object>"
      ]
     },
     "metadata": {},
     "output_type": "display_data"
    },
    {
     "data": {
      "text/html": [
       "Synced <strong style=\"color:#cdcd00\">stellar-grass-7</strong>: <a href=\"https://wandb.ai/aamirshuaib/exp2/runs/2mzyihz6\" target=\"_blank\">https://wandb.ai/aamirshuaib/exp2/runs/2mzyihz6</a><br/>Synced 5 W&B file(s), 4 media file(s), 4 artifact file(s) and 0 other file(s)"
      ],
      "text/plain": [
       "<IPython.core.display.HTML object>"
      ]
     },
     "metadata": {},
     "output_type": "display_data"
    },
    {
     "data": {
      "text/html": [
       "Find logs at: <code>.\\wandb\\run-20220526_085818-2mzyihz6\\logs</code>"
      ],
      "text/plain": [
       "<IPython.core.display.HTML object>"
      ]
     },
     "metadata": {},
     "output_type": "display_data"
    }
   ],
   "source": [
    "wandb.save()\n",
    "wandb.finish()"
   ]
  },
  {
   "cell_type": "markdown",
   "id": "64897c30",
   "metadata": {},
   "source": [
    "# Finalizing the Model"
   ]
  },
  {
   "cell_type": "code",
   "execution_count": 53,
   "id": "50b7e8db",
   "metadata": {},
   "outputs": [],
   "source": [
    "best_model = 'D:/Work_Projects/sample_pipeline/exp_pipeline/model_registry/cluster_model_2_6_05_26_2022_09_07_16.pkl'\n",
    "final_model = \"D:/Work_Projects/sample_pipeline/exp_pipeline/Finalized_model/model.pkl\""
   ]
  },
  {
   "cell_type": "code",
   "execution_count": 54,
   "id": "69596193",
   "metadata": {},
   "outputs": [],
   "source": [
    "model = pickle.load(open(best_model, 'rb'))\n",
    "pickle.dump(model, open(final_model, 'wb'))"
   ]
  },
  {
   "cell_type": "code",
   "execution_count": 56,
   "id": "f584babc",
   "metadata": {},
   "outputs": [
    {
     "data": {
      "text/html": [
       "<style>div.sk-top-container {color: black;background-color: white;}div.sk-toggleable {background-color: white;}label.sk-toggleable__label {cursor: pointer;display: block;width: 100%;margin-bottom: 0;padding: 0.2em 0.3em;box-sizing: border-box;text-align: center;}div.sk-toggleable__content {max-height: 0;max-width: 0;overflow: hidden;text-align: left;background-color: #f0f8ff;}div.sk-toggleable__content pre {margin: 0.2em;color: black;border-radius: 0.25em;background-color: #f0f8ff;}input.sk-toggleable__control:checked~div.sk-toggleable__content {max-height: 200px;max-width: 100%;overflow: auto;}div.sk-estimator input.sk-toggleable__control:checked~label.sk-toggleable__label {background-color: #d4ebff;}div.sk-label input.sk-toggleable__control:checked~label.sk-toggleable__label {background-color: #d4ebff;}input.sk-hidden--visually {border: 0;clip: rect(1px 1px 1px 1px);clip: rect(1px, 1px, 1px, 1px);height: 1px;margin: -1px;overflow: hidden;padding: 0;position: absolute;width: 1px;}div.sk-estimator {font-family: monospace;background-color: #f0f8ff;margin: 0.25em 0.25em;border: 1px dotted black;border-radius: 0.25em;box-sizing: border-box;}div.sk-estimator:hover {background-color: #d4ebff;}div.sk-parallel-item::after {content: \"\";width: 100%;border-bottom: 1px solid gray;flex-grow: 1;}div.sk-label:hover label.sk-toggleable__label {background-color: #d4ebff;}div.sk-serial::before {content: \"\";position: absolute;border-left: 1px solid gray;box-sizing: border-box;top: 2em;bottom: 0;left: 50%;}div.sk-serial {display: flex;flex-direction: column;align-items: center;background-color: white;}div.sk-item {z-index: 1;}div.sk-parallel {display: flex;align-items: stretch;justify-content: center;background-color: white;}div.sk-parallel-item {display: flex;flex-direction: column;position: relative;background-color: white;}div.sk-parallel-item:first-child::after {align-self: flex-end;width: 50%;}div.sk-parallel-item:last-child::after {align-self: flex-start;width: 50%;}div.sk-parallel-item:only-child::after {width: 0;}div.sk-dashed-wrapped {border: 1px dashed gray;margin: 0.2em;box-sizing: border-box;padding-bottom: 0.1em;background-color: white;position: relative;}div.sk-label label {font-family: monospace;font-weight: bold;background-color: white;display: inline-block;line-height: 1.2em;}div.sk-label-container {position: relative;z-index: 2;text-align: center;}div.sk-container {display: inline-block;position: relative;}</style><div class=\"sk-top-container\"><div class=\"sk-container\"><div class=\"sk-item sk-dashed-wrapped\"><div class=\"sk-label-container\"><div class=\"sk-label sk-toggleable\"><input class=\"sk-toggleable__control sk-hidden--visually\" id=\"71f736a9-cec2-4a7b-94cb-99b77e511545\" type=\"checkbox\" ><label class=\"sk-toggleable__label\" for=\"71f736a9-cec2-4a7b-94cb-99b77e511545\">Pipeline</label><div class=\"sk-toggleable__content\"><pre>Pipeline(steps=[('PCA',\n",
       "                 Pipeline(steps=[('pca',\n",
       "                                  PCA(n_components=2, random_state=1))])),\n",
       "                ('Kmeans', Pipeline(steps=[('Kmeans', KMeans(n_clusters=6))]))])</pre></div></div></div><div class=\"sk-serial\"><div class=\"sk-item\"><div class=\"sk-label-container\"><div class=\"sk-label sk-toggleable\"><input class=\"sk-toggleable__control sk-hidden--visually\" id=\"84b77f35-346b-4ba6-9494-be7718079b54\" type=\"checkbox\" ><label class=\"sk-toggleable__label\" for=\"84b77f35-346b-4ba6-9494-be7718079b54\">PCA: Pipeline</label><div class=\"sk-toggleable__content\"><pre>Pipeline(steps=[('pca', PCA(n_components=2, random_state=1))])</pre></div></div></div><div class=\"sk-serial\"><div class=\"sk-item\"><div class=\"sk-estimator sk-toggleable\"><input class=\"sk-toggleable__control sk-hidden--visually\" id=\"ec8e28a5-94de-45cb-84a8-24f70b3fa574\" type=\"checkbox\" ><label class=\"sk-toggleable__label\" for=\"ec8e28a5-94de-45cb-84a8-24f70b3fa574\">PCA</label><div class=\"sk-toggleable__content\"><pre>PCA(n_components=2, random_state=1)</pre></div></div></div></div></div><div class=\"sk-item\"><div class=\"sk-label-container\"><div class=\"sk-label sk-toggleable\"><input class=\"sk-toggleable__control sk-hidden--visually\" id=\"52cefbff-561d-4771-a8cc-7e21eda7fe6c\" type=\"checkbox\" ><label class=\"sk-toggleable__label\" for=\"52cefbff-561d-4771-a8cc-7e21eda7fe6c\">Kmeans: Pipeline</label><div class=\"sk-toggleable__content\"><pre>Pipeline(steps=[('Kmeans', KMeans(n_clusters=6))])</pre></div></div></div><div class=\"sk-serial\"><div class=\"sk-item\"><div class=\"sk-estimator sk-toggleable\"><input class=\"sk-toggleable__control sk-hidden--visually\" id=\"0b4b9006-2554-466c-af4d-f54166da890b\" type=\"checkbox\" ><label class=\"sk-toggleable__label\" for=\"0b4b9006-2554-466c-af4d-f54166da890b\">KMeans</label><div class=\"sk-toggleable__content\"><pre>KMeans(n_clusters=6)</pre></div></div></div></div></div></div></div></div></div>"
      ],
      "text/plain": [
       "Pipeline(steps=[('PCA',\n",
       "                 Pipeline(steps=[('pca',\n",
       "                                  PCA(n_components=2, random_state=1))])),\n",
       "                ('Kmeans', Pipeline(steps=[('Kmeans', KMeans(n_clusters=6))]))])"
      ]
     },
     "execution_count": 56,
     "metadata": {},
     "output_type": "execute_result"
    }
   ],
   "source": [
    "set_config(display='diagram')\n",
    "model"
   ]
  },
  {
   "cell_type": "code",
   "execution_count": null,
   "id": "229bd37d",
   "metadata": {},
   "outputs": [],
   "source": []
  }
 ],
 "metadata": {
  "interpreter": {
   "hash": "b8c01059f1d937cb60f3ecb1e1a4317db2b71f04b3319011609b863faf22f553"
  },
  "kernelspec": {
   "display_name": "Python 3 (ipykernel)",
   "language": "python",
   "name": "python3"
  },
  "language_info": {
   "codemirror_mode": {
    "name": "ipython",
    "version": 3
   },
   "file_extension": ".py",
   "mimetype": "text/x-python",
   "name": "python",
   "nbconvert_exporter": "python",
   "pygments_lexer": "ipython3",
   "version": "3.7.9"
  },
  "papermill": {
   "parameters": {
    "input_path": "D:\\Work_Projects\\sample_pipeline\\exp_pipeline\\\\data\\\\cleaned_data.csv",
    "plots": "D:\\Work_Projects\\sample_pipeline\\exp_pipeline\\\\plots\\\\",
    "product": {
     "nb": "D:\\Work_Projects\\sample_pipeline\\exp_pipeline\\output_notebooks\\model_building.ipynb"
    },
    "upstream": {
     "cleaning": {
      "data": "D:\\Work_Projects\\sample_pipeline\\exp_pipeline\\data\\clean\\cleaned_data.csv",
      "nb": "D:\\Work_Projects\\sample_pipeline\\exp_pipeline\\output_notebooks\\data_cleaning.ipynb",
      "report": "D:\\Work_Projects\\sample_pipeline\\exp_pipeline\\data_profile_report\\data_profile_report.html"
     }
    },
    "wandb_API_Key": "80be2a65a225c34aa83cfbeeed1754168159d98d"
   }
  },
  "ploomber": {
   "injected_manually": true
  }
 },
 "nbformat": 4,
 "nbformat_minor": 5
}
